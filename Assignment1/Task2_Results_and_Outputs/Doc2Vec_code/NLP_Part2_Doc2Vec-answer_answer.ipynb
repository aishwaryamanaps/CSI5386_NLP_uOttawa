{
 "cells": [
  {
   "cell_type": "code",
   "execution_count": 1,
   "id": "3a3db5f4",
   "metadata": {},
   "outputs": [],
   "source": [
    "#Code reference: https://radimrehurek.com/gensim/auto_examples/tutorials/run_doc2vec_lee.html#sphx-glr-auto-examples-tutorials-run-doc2vec-lee-py\n",
    "#Code reference: https://www.tutorialspoint.com/gensim/gensim_doc2vec_model.htm"
   ]
  },
  {
   "cell_type": "markdown",
   "id": "a1c62eb7",
   "metadata": {},
   "source": [
    "### Importing Libraries"
   ]
  },
  {
   "cell_type": "code",
   "execution_count": 2,
   "id": "ac975141",
   "metadata": {},
   "outputs": [],
   "source": [
    "import pandas as pd\n",
    "import numpy as np\n",
    "from nltk.tokenize import word_tokenize\n",
    "from nltk.corpus import stopwords\n",
    "import nltk\n",
    "from gensim.models.doc2vec import Doc2Vec, TaggedDocument\n",
    "import re\n",
    "import gensim"
   ]
  },
  {
   "cell_type": "markdown",
   "id": "d3454c69",
   "metadata": {},
   "source": [
    "### Reading File"
   ]
  },
  {
   "cell_type": "code",
   "execution_count": 3,
   "id": "6bddfa20",
   "metadata": {},
   "outputs": [],
   "source": [
    "with open('C:/Users/daksh/OneDrive/Desktop/sts2016-english-with-gs-v1.0/sts2016-english-with-gs-v1.0/STS2016.input.answer-answer.txt', 'r', encoding='utf-8') as file:\n",
    "    data = file.read()"
   ]
  },
  {
   "cell_type": "code",
   "execution_count": 4,
   "id": "f928298d",
   "metadata": {},
   "outputs": [
    {
     "data": {
      "text/plain": [
       "\"Tasting it is the only reliable way.\\tThe way you have it is fine.\\tStackExchange Network: http://cooking.stackexchange.com/questions/5611 Author: Krister Olsson (http://cooking.stackexchange.com/users/1220)\\tStackExchange Network: http://writers.stackexchange.com/questions/11017 Author: Lauren Ipsum (http://writers.stackexchange.com/users/553)\\nI think it probably depends on your money.\\tIt depends on your country.\\tStackExchange Network: http://workplace.stackexchange.com/questions/1755 Author: Michael Durrant (http://workplace.stackexchange.com/users/126)\\tStackExchange Network: http://travel.stackexchange.com/questions/45030 Author: Vince (http://travel.stackexchange.com/users/3044) Last Editor: Vince (http://travel.stackexchange.com/users/3044)\\nYou need to read a lot to know what you like and what you don't.\\tYou don't have to know.\\tStackExchange Network: http://writers.stackexchange.com/questions/12166 Author: Lexi (http://writers.stackexchange.com/users/2410)\\tStackExchange Network: http\""
      ]
     },
     "execution_count": 4,
     "metadata": {},
     "output_type": "execute_result"
    }
   ],
   "source": [
    "data[0:1000]"
   ]
  },
  {
   "cell_type": "code",
   "execution_count": 5,
   "id": "0e410ab1",
   "metadata": {},
   "outputs": [
    {
     "data": {
      "text/plain": [
       "621616"
      ]
     },
     "execution_count": 5,
     "metadata": {},
     "output_type": "execute_result"
    }
   ],
   "source": [
    "len(data)"
   ]
  },
  {
   "cell_type": "markdown",
   "id": "5944af1c",
   "metadata": {},
   "source": [
    "### Pre-process and Tag the data"
   ]
  },
  {
   "cell_type": "code",
   "execution_count": 6,
   "id": "4da31f7d",
   "metadata": {},
   "outputs": [],
   "source": [
    "tp1 = re.sub(r'\\w+:\\/{2}[\\d\\w-]+(\\.[\\d\\w-]+)*(?:(?:\\/[^\\s/]*))*', '', data)\n",
    "tp2 = re.sub(r'\\d+', '', tp1)\n",
    "clean= re.compile('<.*?>')\n",
    "tp4 = re.sub(clean, '', tp2)\n",
    "tp5 = tp4.lower()\n",
    "tp7 = re.sub(r'[^\\w\\s]', '',tp5)\n",
    "tp8 = re.sub(r'[^\\x00-\\x7f]',r'', tp7)\n",
    "tp9 = tp8.replace(\"_\",\"\")\n",
    "\n",
    "stop_words = set(stopwords.words('english'))"
   ]
  },
  {
   "cell_type": "code",
   "execution_count": 7,
   "id": "b0f2019e",
   "metadata": {},
   "outputs": [],
   "source": [
    "with open(\"doc2vec1.txt\", 'w') as file:\n",
    "    file.write(\"%s\\n\" % tp9)"
   ]
  },
  {
   "cell_type": "code",
   "execution_count": 8,
   "id": "312162a9",
   "metadata": {},
   "outputs": [
    {
     "data": {
      "text/html": [
       "<div>\n",
       "<style scoped>\n",
       "    .dataframe tbody tr th:only-of-type {\n",
       "        vertical-align: middle;\n",
       "    }\n",
       "\n",
       "    .dataframe tbody tr th {\n",
       "        vertical-align: top;\n",
       "    }\n",
       "\n",
       "    .dataframe thead th {\n",
       "        text-align: right;\n",
       "    }\n",
       "</style>\n",
       "<table border=\"1\" class=\"dataframe\">\n",
       "  <thead>\n",
       "    <tr style=\"text-align: right;\">\n",
       "      <th></th>\n",
       "      <th>First_Question</th>\n",
       "      <th>Second_Question</th>\n",
       "      <th>irr1</th>\n",
       "      <th>irr2</th>\n",
       "    </tr>\n",
       "  </thead>\n",
       "  <tbody>\n",
       "    <tr>\n",
       "      <th>0</th>\n",
       "      <td>i think it probably depends on your money</td>\n",
       "      <td>it depends on your country</td>\n",
       "      <td>stackexchange network  author michael durrant</td>\n",
       "      <td>stackexchange network  author vince  last edit...</td>\n",
       "    </tr>\n",
       "    <tr>\n",
       "      <th>1</th>\n",
       "      <td>you need to read a lot to know what you like a...</td>\n",
       "      <td>you dont have to know</td>\n",
       "      <td>stackexchange network  author lexi</td>\n",
       "      <td>stackexchange network  author bigpants  last e...</td>\n",
       "    </tr>\n",
       "    <tr>\n",
       "      <th>2</th>\n",
       "      <td>obviously the best book for you depends a lot ...</td>\n",
       "      <td>the answer will depend of course on what youre...</td>\n",
       "      <td>stackexchange network  author josay  last edit...</td>\n",
       "      <td>stackexchange network  author karlson</td>\n",
       "    </tr>\n",
       "    <tr>\n",
       "      <th>3</th>\n",
       "      <td>ive had this same problem</td>\n",
       "      <td>i had the same problem as you</td>\n",
       "      <td>stackexchange network  author joseph</td>\n",
       "      <td>stackexchange network  author izzydorio  last ...</td>\n",
       "    </tr>\n",
       "    <tr>\n",
       "      <th>4</th>\n",
       "      <td>if you are not sure how to do it dont do it at...</td>\n",
       "      <td>also if you die you dont have to repay dont kn...</td>\n",
       "      <td>stackexchange network  author adrian  last edi...</td>\n",
       "      <td>stackexchange network  author littleadv</td>\n",
       "    </tr>\n",
       "  </tbody>\n",
       "</table>\n",
       "</div>"
      ],
      "text/plain": [
       "                                      First_Question  \\\n",
       "0          i think it probably depends on your money   \n",
       "1  you need to read a lot to know what you like a...   \n",
       "2  obviously the best book for you depends a lot ...   \n",
       "3                          ive had this same problem   \n",
       "4  if you are not sure how to do it dont do it at...   \n",
       "\n",
       "                                     Second_Question  \\\n",
       "0                         it depends on your country   \n",
       "1                              you dont have to know   \n",
       "2  the answer will depend of course on what youre...   \n",
       "3                      i had the same problem as you   \n",
       "4  also if you die you dont have to repay dont kn...   \n",
       "\n",
       "                                                irr1  \\\n",
       "0     stackexchange network  author michael durrant    \n",
       "1                stackexchange network  author lexi    \n",
       "2  stackexchange network  author josay  last edit...   \n",
       "3              stackexchange network  author joseph    \n",
       "4  stackexchange network  author adrian  last edi...   \n",
       "\n",
       "                                                irr2  \n",
       "0  stackexchange network  author vince  last edit...  \n",
       "1  stackexchange network  author bigpants  last e...  \n",
       "2             stackexchange network  author karlson   \n",
       "3  stackexchange network  author izzydorio  last ...  \n",
       "4           stackexchange network  author littleadv   "
      ]
     },
     "execution_count": 8,
     "metadata": {},
     "output_type": "execute_result"
    }
   ],
   "source": [
    "df = pd.read_csv('doc2vec1.txt', sep='\\t')\n",
    "df.columns = ['First_Question','Second_Question','irr1','irr2']\n",
    "df.head()"
   ]
  },
  {
   "cell_type": "code",
   "execution_count": 9,
   "id": "d0f9a66b",
   "metadata": {},
   "outputs": [],
   "source": [
    "df['first_removedStop'] = df['First_Question'].apply(lambda x: ' '.join([word for word in x.split() if word not in stop_words]))\n",
    "df['second_removedStop'] = df['Second_Question'].apply(lambda x: ' '.join([word for word in x.split() if word not in stop_words]))"
   ]
  },
  {
   "cell_type": "code",
   "execution_count": 10,
   "id": "5d71b52b",
   "metadata": {},
   "outputs": [],
   "source": [
    "df.drop(columns = ['First_Question','Second_Question','irr1','irr2'], axis=1, inplace=True)"
   ]
  },
  {
   "cell_type": "code",
   "execution_count": 11,
   "id": "465d7eb3",
   "metadata": {},
   "outputs": [
    {
     "data": {
      "text/plain": [
       "(1571, 2)"
      ]
     },
     "execution_count": 11,
     "metadata": {},
     "output_type": "execute_result"
    }
   ],
   "source": [
    "df.shape"
   ]
  },
  {
   "cell_type": "code",
   "execution_count": 12,
   "id": "fbdad796",
   "metadata": {},
   "outputs": [],
   "source": [
    "import string\n",
    "\n",
    "corpus = []\n",
    "\n",
    "for index, row in df.iterrows():\n",
    "    corpus.append(row['first_removedStop'])\n",
    "    corpus.append(row['second_removedStop'])"
   ]
  },
  {
   "cell_type": "code",
   "execution_count": 13,
   "id": "b826f6e0",
   "metadata": {},
   "outputs": [
    {
     "data": {
      "text/plain": [
       "['think probably depends money',\n",
       " 'depends country',\n",
       " 'need read lot know like dont',\n",
       " 'dont know',\n",
       " 'obviously best book depends lot looking']"
      ]
     },
     "execution_count": 13,
     "metadata": {},
     "output_type": "execute_result"
    }
   ],
   "source": [
    "corpus[0:5]"
   ]
  },
  {
   "cell_type": "code",
   "execution_count": 14,
   "id": "bd7377ba",
   "metadata": {},
   "outputs": [],
   "source": [
    "import string\n",
    "\n",
    "questions1 = df['first_removedStop'].to_list()\n",
    "questions2 = df['second_removedStop'].to_list()"
   ]
  },
  {
   "cell_type": "code",
   "execution_count": 15,
   "id": "b434a73e",
   "metadata": {},
   "outputs": [
    {
     "data": {
      "text/plain": [
       "list"
      ]
     },
     "execution_count": 15,
     "metadata": {},
     "output_type": "execute_result"
    }
   ],
   "source": [
    "type(questions1)"
   ]
  },
  {
   "cell_type": "code",
   "execution_count": 16,
   "id": "faf93508",
   "metadata": {},
   "outputs": [],
   "source": [
    "#ls = [\"This\",\"is\",\"list\",\"of\", \"words\"]\n",
    "\n",
    "def tagged_document(list_of_list_of_words):\n",
    "    for i, list_of_words in enumerate(list_of_list_of_words):\n",
    "        tokens = gensim.utils.simple_preprocess(list_of_words)\n",
    "        yield gensim.models.doc2vec.TaggedDocument(tokens, [i])\n",
    "\n",
    "data_for_training = list(tagged_document(corpus))"
   ]
  },
  {
   "cell_type": "code",
   "execution_count": 17,
   "id": "d1749471",
   "metadata": {},
   "outputs": [
    {
     "name": "stdout",
     "output_type": "stream",
     "text": [
      "[TaggedDocument(words=['think', 'probably', 'depends', 'money'], tags=[0]), TaggedDocument(words=['depends', 'country'], tags=[1]), TaggedDocument(words=['need', 'read', 'lot', 'know', 'like', 'dont'], tags=[2])]\n"
     ]
    }
   ],
   "source": [
    "print(data_for_training[:3])"
   ]
  },
  {
   "cell_type": "code",
   "execution_count": 18,
   "id": "6a382f9f",
   "metadata": {},
   "outputs": [],
   "source": [
    "model = Doc2Vec(vector_size=50, min_count=2, epochs=40)\n",
    "model.build_vocab(data_for_training)\n",
    "\n",
    "model.train(data_for_training, total_examples=model.corpus_count, epochs=model.epochs)\n",
    "\n",
    "#embeddings2 = model.train(quest2, total_examples=model.corpus_count, epochs=model.epochs)"
   ]
  },
  {
   "cell_type": "code",
   "execution_count": 19,
   "id": "955db8a7",
   "metadata": {},
   "outputs": [
    {
     "data": {
      "text/plain": [
       "[(760, 0.9611252546310425),\n",
       " (2678, 0.9599332809448242),\n",
       " (2293, 0.9598993062973022),\n",
       " (1165, 0.9537076950073242),\n",
       " (2679, 0.9518812298774719),\n",
       " (1504, 0.9515618681907654),\n",
       " (1014, 0.9514199495315552),\n",
       " (3034, 0.9505453109741211),\n",
       " (2613, 0.9504989385604858),\n",
       " (923, 0.9494186043739319)]"
      ]
     },
     "execution_count": 19,
     "metadata": {},
     "output_type": "execute_result"
    }
   ],
   "source": [
    "model.dv.most_similar(0)"
   ]
  },
  {
   "cell_type": "code",
   "execution_count": 20,
   "id": "57cd5e5a",
   "metadata": {},
   "outputs": [
    {
     "data": {
      "text/plain": [
       "TaggedDocument(words=['think', 'probably', 'depends', 'money'], tags=[0])"
      ]
     },
     "execution_count": 20,
     "metadata": {},
     "output_type": "execute_result"
    }
   ],
   "source": [
    "data_for_training[0]"
   ]
  },
  {
   "cell_type": "code",
   "execution_count": 21,
   "id": "97e8fc21",
   "metadata": {},
   "outputs": [
    {
     "data": {
      "text/plain": [
       "TaggedDocument(words=['think', 'probably', 'depends', 'money'], tags=[340])"
      ]
     },
     "execution_count": 21,
     "metadata": {},
     "output_type": "execute_result"
    }
   ],
   "source": [
    "data_for_training[340]"
   ]
  },
  {
   "cell_type": "code",
   "execution_count": 22,
   "id": "64bf9667",
   "metadata": {},
   "outputs": [
    {
     "data": {
      "text/plain": [
       "3142"
      ]
     },
     "execution_count": 22,
     "metadata": {},
     "output_type": "execute_result"
    }
   ],
   "source": [
    "len(model.dv)"
   ]
  },
  {
   "cell_type": "markdown",
   "id": "0aa682b5",
   "metadata": {},
   "source": [
    "### Evaluation"
   ]
  },
  {
   "cell_type": "code",
   "execution_count": 23,
   "id": "152ded59",
   "metadata": {},
   "outputs": [
    {
     "data": {
      "text/plain": [
       "1571"
      ]
     },
     "execution_count": 23,
     "metadata": {},
     "output_type": "execute_result"
    }
   ],
   "source": [
    "tokenized_ques1 =[]\n",
    "for question in questions1:\n",
    "    tokenized_ques1.append(gensim.utils.simple_preprocess(question))\n",
    "len(tokenized_ques1)"
   ]
  },
  {
   "cell_type": "code",
   "execution_count": 24,
   "id": "f1644425",
   "metadata": {},
   "outputs": [
    {
     "data": {
      "text/plain": [
       "1571"
      ]
     },
     "execution_count": 24,
     "metadata": {},
     "output_type": "execute_result"
    }
   ],
   "source": [
    "tokenized_ques2 =[]\n",
    "for question in questions2:\n",
    "    tokenized_ques2.append(gensim.utils.simple_preprocess(question))\n",
    "len(tokenized_ques2)"
   ]
  },
  {
   "cell_type": "code",
   "execution_count": 25,
   "id": "ed5bc4ff",
   "metadata": {},
   "outputs": [],
   "source": [
    "from scipy import spatial\n",
    "\n",
    "sim_scores=[]\n",
    "\n",
    "#tokenized_ques2[0:2]\n",
    "\n",
    "length_ques1 = len(tokenized_ques1)\n",
    "\n",
    "for i in range(0,length_ques1):\n",
    "    #Some part taken from https://stackoverflow.com/questions/53503049/measure-similarity-between-two-documents-using-doc2vec\n",
    "    vec1 = model.infer_vector(tokenized_ques1[i])\n",
    "    vec2 = model.infer_vector(tokenized_ques2[i])\n",
    "    cos_distance = spatial.distance.cosine(vec1, vec2)\n",
    "    cos_sim = 1-cos_distance\n",
    "    sim_scores.append(cos_sim)"
   ]
  },
  {
   "cell_type": "code",
   "execution_count": 26,
   "id": "f4c6e986",
   "metadata": {},
   "outputs": [
    {
     "data": {
      "text/plain": [
       "[4.023880064487457,\n",
       " 4.697512686252594,\n",
       " 3.0005133152008057,\n",
       " 4.206242561340332,\n",
       " 4.227454960346222,\n",
       " 1.0262122750282288,\n",
       " 0.5122652277350426,\n",
       " 4.872941374778748,\n",
       " 4.841373860836029,\n",
       " 0.14943737536668777,\n",
       " 4.280194044113159,\n",
       " 3.523646891117096,\n",
       " 4.44063663482666,\n",
       " -0.5134334787726402,\n",
       " 2.953958809375763,\n",
       " 4.785194993019104,\n",
       " 4.303717911243439,\n",
       " 4.056562185287476,\n",
       " 4.015588760375977,\n",
       " 4.043763279914856,\n",
       " 4.933140873908997,\n",
       " 4.428889453411102,\n",
       " 4.678522050380707,\n",
       " 3.9345359802246094,\n",
       " 4.006284773349762,\n",
       " 4.946971833705902,\n",
       " -0.5810559168457985,\n",
       " 3.807748854160309,\n",
       " 1.0831334441900253,\n",
       " 3.3482518792152405,\n",
       " 1.4485421776771545,\n",
       " 3.90752375125885,\n",
       " 3.6741408705711365,\n",
       " 4.527727365493774,\n",
       " 4.395000338554382,\n",
       " 3.419620394706726,\n",
       " 1.1449941247701645,\n",
       " 4.03300017118454,\n",
       " 4.863674342632294,\n",
       " 3.0267858505249023,\n",
       " 3.3053383231163025,\n",
       " 4.870506823062897,\n",
       " 4.74921852350235,\n",
       " 4.570346176624298,\n",
       " 3.861049711704254,\n",
       " 2.6017963886260986,\n",
       " 3.94627183675766,\n",
       " -0.0019808085926342756,\n",
       " 4.786378741264343,\n",
       " 1.7651090025901794]"
      ]
     },
     "execution_count": 26,
     "metadata": {},
     "output_type": "execute_result"
    }
   ],
   "source": [
    "sim_scores = [(score*5) for score in sim_scores]\n",
    "sim_scores[0:50]"
   ]
  },
  {
   "cell_type": "code",
   "execution_count": 27,
   "id": "dad5e2fc",
   "metadata": {},
   "outputs": [],
   "source": [
    "with open('C:/Users/daksh/OneDrive/Desktop/sts2016-english-with-gs-v1.0/sts2016-english-with-gs-v1.0/STS2016.input.answer-answer.cosine.txt', 'w') as file:\n",
    "    for score in sim_scores:\n",
    "        file.write('%s\\n' %score)"
   ]
  }
 ],
 "metadata": {
  "kernelspec": {
   "display_name": "Python 3 (ipykernel)",
   "language": "python",
   "name": "python3"
  },
  "language_info": {
   "codemirror_mode": {
    "name": "ipython",
    "version": 3
   },
   "file_extension": ".py",
   "mimetype": "text/x-python",
   "name": "python",
   "nbconvert_exporter": "python",
   "pygments_lexer": "ipython3",
   "version": "3.8.3"
  }
 },
 "nbformat": 4,
 "nbformat_minor": 5
}
