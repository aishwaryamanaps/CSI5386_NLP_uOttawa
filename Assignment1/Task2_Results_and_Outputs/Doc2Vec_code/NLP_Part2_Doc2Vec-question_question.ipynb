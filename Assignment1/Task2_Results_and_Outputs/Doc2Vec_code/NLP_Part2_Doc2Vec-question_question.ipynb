{
 "cells": [
  {
   "cell_type": "code",
   "execution_count": 1,
   "id": "c0496979",
   "metadata": {},
   "outputs": [],
   "source": [
    "#Code reference: https://radimrehurek.com/gensim/auto_examples/tutorials/run_doc2vec_lee.html#sphx-glr-auto-examples-tutorials-run-doc2vec-lee-py\n",
    "#Code reference: https://www.tutorialspoint.com/gensim/gensim_doc2vec_model.htm"
   ]
  },
  {
   "cell_type": "markdown",
   "id": "a1c62eb7",
   "metadata": {},
   "source": [
    "### Importing Libraries"
   ]
  },
  {
   "cell_type": "code",
   "execution_count": 2,
   "id": "ac975141",
   "metadata": {},
   "outputs": [],
   "source": [
    "import pandas as pd\n",
    "import numpy as np\n",
    "from nltk.tokenize import word_tokenize\n",
    "from nltk.corpus import stopwords\n",
    "import nltk\n",
    "from gensim.models.doc2vec import Doc2Vec, TaggedDocument\n",
    "import re\n",
    "import gensim"
   ]
  },
  {
   "cell_type": "markdown",
   "id": "d3454c69",
   "metadata": {},
   "source": [
    "### Reading File"
   ]
  },
  {
   "cell_type": "code",
   "execution_count": 3,
   "id": "6bddfa20",
   "metadata": {},
   "outputs": [],
   "source": [
    "with open('C:/Users/daksh/OneDrive/Desktop/sts2016-english-with-gs-v1.0/sts2016-english-with-gs-v1.0/STS2016.input.question-question.txt', 'r', encoding='utf-8') as file:\n",
    "    data = file.read()"
   ]
  },
  {
   "cell_type": "code",
   "execution_count": 4,
   "id": "f928298d",
   "metadata": {},
   "outputs": [
    {
     "data": {
      "text/plain": [
       "'Should I drink water during my workout?\\tHow can I get my toddler to drink more water?\\tStackExchange Network: http://fitness.stackexchange.com/questions/1902 Author: Rogach (http://fitness.stackexchange.com/users/132) Last Editor: Nathan Wheeler (http://fitness.stackexchange.com/users/21)\\tStackExchange Network: http://parenting.stackexchange.com/questions/11704 Author: I Like to Code (http://parenting.stackexchange.com/users/4718)\\nHow can I put something in book format without \"publishing\" it?\\tHow can I \"time-stamp\" my data without publishing it?\\tStackExchange Network: http://writers.stackexchange.com/questions/5043 Author: justkt (http://writers.stackexchange.com/users/20) Last Editor: cwallenpoole (http://writers.stackexchange.com/users/734)\\tStackExchange Network: http://academia.stackexchange.com/questions/23367 Author: Quora Feans (http://academia.stackexchange.com/users/8970) Last Editor: aeismail (http://academia.stackexchange.com/users/53)\\nHow do I stop my dog from jumping on me?'"
      ]
     },
     "execution_count": 4,
     "metadata": {},
     "output_type": "execute_result"
    }
   ],
   "source": [
    "data[0:1000]"
   ]
  },
  {
   "cell_type": "code",
   "execution_count": 5,
   "id": "0e410ab1",
   "metadata": {},
   "outputs": [
    {
     "data": {
      "text/plain": [
       "727101"
      ]
     },
     "execution_count": 5,
     "metadata": {},
     "output_type": "execute_result"
    }
   ],
   "source": [
    "len(data)"
   ]
  },
  {
   "cell_type": "markdown",
   "id": "5944af1c",
   "metadata": {},
   "source": [
    "### Pre-process and Tag the data"
   ]
  },
  {
   "cell_type": "code",
   "execution_count": 6,
   "id": "4da31f7d",
   "metadata": {},
   "outputs": [],
   "source": [
    "tp1 = re.sub(r'\\w+:\\/{2}[\\d\\w-]+(\\.[\\d\\w-]+)*(?:(?:\\/[^\\s/]*))*', '', data)\n",
    "tp2 = re.sub(r'\\d+', '', tp1)\n",
    "clean= re.compile('<.*?>')\n",
    "tp4 = re.sub(clean, '', tp2)\n",
    "tp5 = tp4.lower()\n",
    "tp7 = re.sub(r'[^\\w\\s]', '',tp5)\n",
    "tp8 = re.sub(r'[^\\x00-\\x7f]',r'', tp7)\n",
    "tp9 = tp8.replace(\"_\",\"\")\n",
    "\n",
    "stop_words = set(stopwords.words('english'))"
   ]
  },
  {
   "cell_type": "code",
   "execution_count": 7,
   "id": "b0f2019e",
   "metadata": {},
   "outputs": [],
   "source": [
    "with open(\"doc2vec5.txt\", 'w') as file:\n",
    "    file.write(\"%s\\n\" % tp9)"
   ]
  },
  {
   "cell_type": "code",
   "execution_count": 8,
   "id": "312162a9",
   "metadata": {},
   "outputs": [
    {
     "data": {
      "text/html": [
       "<div>\n",
       "<style scoped>\n",
       "    .dataframe tbody tr th:only-of-type {\n",
       "        vertical-align: middle;\n",
       "    }\n",
       "\n",
       "    .dataframe tbody tr th {\n",
       "        vertical-align: top;\n",
       "    }\n",
       "\n",
       "    .dataframe thead th {\n",
       "        text-align: right;\n",
       "    }\n",
       "</style>\n",
       "<table border=\"1\" class=\"dataframe\">\n",
       "  <thead>\n",
       "    <tr style=\"text-align: right;\">\n",
       "      <th></th>\n",
       "      <th>First_Question</th>\n",
       "      <th>Second_Question</th>\n",
       "      <th>irr1</th>\n",
       "      <th>irr2</th>\n",
       "    </tr>\n",
       "  </thead>\n",
       "  <tbody>\n",
       "    <tr>\n",
       "      <th>0</th>\n",
       "      <td>how can i put something in book format without...</td>\n",
       "      <td>how can i timestamp my data without publishing it</td>\n",
       "      <td>stackexchange network  author justkt  last edi...</td>\n",
       "      <td>stackexchange network  author quora feans  las...</td>\n",
       "    </tr>\n",
       "    <tr>\n",
       "      <th>1</th>\n",
       "      <td>how do i stop my dog from jumping on me</td>\n",
       "      <td>how do i make my dog forget a command</td>\n",
       "      <td>stackexchange network  author user  last edito...</td>\n",
       "      <td>stackexchange network  author thinly veiled qu...</td>\n",
       "    </tr>\n",
       "    <tr>\n",
       "      <th>2</th>\n",
       "      <td>whats the best way to store asparagus</td>\n",
       "      <td>whats the correct way to store fats</td>\n",
       "      <td>stackexchange network  author katiek</td>\n",
       "      <td>stackexchange network  author andres jaan tack</td>\n",
       "    </tr>\n",
       "    <tr>\n",
       "      <th>3</th>\n",
       "      <td>how do i make a height adjustable desk</td>\n",
       "      <td>how can i build a wall mounted adjustable heig...</td>\n",
       "      <td>stackexchange network  author evan  last edito...</td>\n",
       "      <td>stackexchange network  author davemackey  last...</td>\n",
       "    </tr>\n",
       "    <tr>\n",
       "      <th>4</th>\n",
       "      <td>what is the best time and temperature for tast...</td>\n",
       "      <td>what is the best oil to use when cooking in a wok</td>\n",
       "      <td>stackexchange network  author mark rogers  las...</td>\n",
       "      <td>stackexchange network  author lomaxx</td>\n",
       "    </tr>\n",
       "  </tbody>\n",
       "</table>\n",
       "</div>"
      ],
      "text/plain": [
       "                                      First_Question  \\\n",
       "0  how can i put something in book format without...   \n",
       "1            how do i stop my dog from jumping on me   \n",
       "2              whats the best way to store asparagus   \n",
       "3             how do i make a height adjustable desk   \n",
       "4  what is the best time and temperature for tast...   \n",
       "\n",
       "                                     Second_Question  \\\n",
       "0  how can i timestamp my data without publishing it   \n",
       "1              how do i make my dog forget a command   \n",
       "2                whats the correct way to store fats   \n",
       "3  how can i build a wall mounted adjustable heig...   \n",
       "4  what is the best oil to use when cooking in a wok   \n",
       "\n",
       "                                                irr1  \\\n",
       "0  stackexchange network  author justkt  last edi...   \n",
       "1  stackexchange network  author user  last edito...   \n",
       "2              stackexchange network  author katiek    \n",
       "3  stackexchange network  author evan  last edito...   \n",
       "4  stackexchange network  author mark rogers  las...   \n",
       "\n",
       "                                                irr2  \n",
       "0  stackexchange network  author quora feans  las...  \n",
       "1  stackexchange network  author thinly veiled qu...  \n",
       "2    stackexchange network  author andres jaan tack   \n",
       "3  stackexchange network  author davemackey  last...  \n",
       "4              stackexchange network  author lomaxx   "
      ]
     },
     "execution_count": 8,
     "metadata": {},
     "output_type": "execute_result"
    }
   ],
   "source": [
    "df = pd.read_csv('doc2vec5.txt', sep='\\t')\n",
    "df.columns = ['First_Question','Second_Question','irr1','irr2']\n",
    "df.head()"
   ]
  },
  {
   "cell_type": "code",
   "execution_count": 9,
   "id": "d0f9a66b",
   "metadata": {},
   "outputs": [],
   "source": [
    "df['first_removedStop'] = df['First_Question'].apply(lambda x: ' '.join([word for word in x.split() if word not in stop_words]))\n",
    "df['second_removedStop'] = df['Second_Question'].apply(lambda x: ' '.join([word for word in x.split() if word not in stop_words]))"
   ]
  },
  {
   "cell_type": "code",
   "execution_count": 10,
   "id": "5d71b52b",
   "metadata": {},
   "outputs": [],
   "source": [
    "df.drop(columns = ['First_Question','Second_Question','irr1','irr2'], axis=1, inplace=True)"
   ]
  },
  {
   "cell_type": "code",
   "execution_count": 11,
   "id": "fe69252e",
   "metadata": {},
   "outputs": [
    {
     "data": {
      "text/plain": [
       "(1554, 2)"
      ]
     },
     "execution_count": 11,
     "metadata": {},
     "output_type": "execute_result"
    }
   ],
   "source": [
    "df.shape"
   ]
  },
  {
   "cell_type": "code",
   "execution_count": 12,
   "id": "8f91b087",
   "metadata": {},
   "outputs": [],
   "source": [
    "import string\n",
    "\n",
    "corpus = []\n",
    "\n",
    "for index, row in df.iterrows():\n",
    "    corpus.append(row['first_removedStop'])\n",
    "    corpus.append(row['second_removedStop'])"
   ]
  },
  {
   "cell_type": "code",
   "execution_count": 13,
   "id": "9b0aed23",
   "metadata": {},
   "outputs": [
    {
     "data": {
      "text/plain": [
       "['put something book format without publishing',\n",
       " 'timestamp data without publishing',\n",
       " 'stop dog jumping',\n",
       " 'make dog forget command',\n",
       " 'whats best way store asparagus']"
      ]
     },
     "execution_count": 13,
     "metadata": {},
     "output_type": "execute_result"
    }
   ],
   "source": [
    "corpus[0:5]"
   ]
  },
  {
   "cell_type": "code",
   "execution_count": 14,
   "id": "bd7377ba",
   "metadata": {},
   "outputs": [],
   "source": [
    "import string\n",
    "\n",
    "questions1 = df['first_removedStop'].to_list()\n",
    "questions2 = df['second_removedStop'].to_list()"
   ]
  },
  {
   "cell_type": "code",
   "execution_count": 15,
   "id": "b434a73e",
   "metadata": {},
   "outputs": [
    {
     "data": {
      "text/plain": [
       "list"
      ]
     },
     "execution_count": 15,
     "metadata": {},
     "output_type": "execute_result"
    }
   ],
   "source": [
    "type(questions1)"
   ]
  },
  {
   "cell_type": "code",
   "execution_count": 16,
   "id": "faf93508",
   "metadata": {},
   "outputs": [],
   "source": [
    "#ls = [\"This\",\"is\",\"list\",\"of\", \"words\"]\n",
    "\n",
    "def tagged_document(list_of_list_of_words):\n",
    "    for i, list_of_words in enumerate(list_of_list_of_words):\n",
    "        tokens = gensim.utils.simple_preprocess(list_of_words)\n",
    "        yield gensim.models.doc2vec.TaggedDocument(tokens, [i])\n",
    "\n",
    "data_for_training = list(tagged_document(corpus))"
   ]
  },
  {
   "cell_type": "code",
   "execution_count": 17,
   "id": "d1749471",
   "metadata": {},
   "outputs": [
    {
     "name": "stdout",
     "output_type": "stream",
     "text": [
      "[TaggedDocument(words=['put', 'something', 'book', 'format', 'without', 'publishing'], tags=[0]), TaggedDocument(words=['timestamp', 'data', 'without', 'publishing'], tags=[1]), TaggedDocument(words=['stop', 'dog', 'jumping'], tags=[2])]\n"
     ]
    }
   ],
   "source": [
    "print(data_for_training[:3])"
   ]
  },
  {
   "cell_type": "code",
   "execution_count": 18,
   "id": "6a382f9f",
   "metadata": {},
   "outputs": [],
   "source": [
    "model = Doc2Vec(vector_size=50, min_count=2, epochs=40)\n",
    "model.build_vocab(data_for_training)\n",
    "\n",
    "model.train(data_for_training, total_examples=model.corpus_count, epochs=model.epochs)\n",
    "\n",
    "#embeddings2 = model.train(quest2, total_examples=model.corpus_count, epochs=model.epochs)"
   ]
  },
  {
   "cell_type": "code",
   "execution_count": 19,
   "id": "955db8a7",
   "metadata": {},
   "outputs": [
    {
     "data": {
      "text/plain": [
       "[(2588, 0.9915246367454529),\n",
       " (2495, 0.9904581308364868),\n",
       " (1839, 0.9898824095726013),\n",
       " (2461, 0.9889029860496521),\n",
       " (35, 0.9885929226875305),\n",
       " (506, 0.9885508418083191),\n",
       " (2748, 0.9883555769920349),\n",
       " (2672, 0.988191545009613),\n",
       " (1952, 0.9879448413848877),\n",
       " (1227, 0.9879159927368164)]"
      ]
     },
     "execution_count": 19,
     "metadata": {},
     "output_type": "execute_result"
    }
   ],
   "source": [
    "model.dv.most_similar(0)"
   ]
  },
  {
   "cell_type": "code",
   "execution_count": 20,
   "id": "d0e5f72c",
   "metadata": {},
   "outputs": [
    {
     "data": {
      "text/plain": [
       "TaggedDocument(words=['put', 'something', 'book', 'format', 'without', 'publishing'], tags=[0])"
      ]
     },
     "execution_count": 20,
     "metadata": {},
     "output_type": "execute_result"
    }
   ],
   "source": [
    "data_for_training[0]"
   ]
  },
  {
   "cell_type": "code",
   "execution_count": 21,
   "id": "23836e9d",
   "metadata": {},
   "outputs": [
    {
     "data": {
      "text/plain": [
       "TaggedDocument(words=['whats', 'best', 'way', 'seal', 'around', 'faucet'], tags=[1132])"
      ]
     },
     "execution_count": 21,
     "metadata": {},
     "output_type": "execute_result"
    }
   ],
   "source": [
    "data_for_training[1132]"
   ]
  },
  {
   "cell_type": "code",
   "execution_count": 22,
   "id": "919e8880",
   "metadata": {},
   "outputs": [
    {
     "data": {
      "text/plain": [
       "3108"
      ]
     },
     "execution_count": 22,
     "metadata": {},
     "output_type": "execute_result"
    }
   ],
   "source": [
    "len(model.dv)"
   ]
  },
  {
   "cell_type": "markdown",
   "id": "702f335c",
   "metadata": {},
   "source": [
    "### Evaluation"
   ]
  },
  {
   "cell_type": "code",
   "execution_count": 23,
   "id": "615b6940",
   "metadata": {},
   "outputs": [
    {
     "data": {
      "text/plain": [
       "1554"
      ]
     },
     "execution_count": 23,
     "metadata": {},
     "output_type": "execute_result"
    }
   ],
   "source": [
    "tokenized_ques1 =[]\n",
    "for question in questions1:\n",
    "    tokenized_ques1.append(gensim.utils.simple_preprocess(question))\n",
    "len(tokenized_ques1)"
   ]
  },
  {
   "cell_type": "code",
   "execution_count": 24,
   "id": "8fa72137",
   "metadata": {},
   "outputs": [
    {
     "data": {
      "text/plain": [
       "1554"
      ]
     },
     "execution_count": 24,
     "metadata": {},
     "output_type": "execute_result"
    }
   ],
   "source": [
    "tokenized_ques2 =[]\n",
    "for question in questions2:\n",
    "    tokenized_ques2.append(gensim.utils.simple_preprocess(question))\n",
    "len(tokenized_ques2)"
   ]
  },
  {
   "cell_type": "code",
   "execution_count": 25,
   "id": "dde515ab",
   "metadata": {},
   "outputs": [],
   "source": [
    "from scipy import spatial\n",
    "\n",
    "sim_scores=[]\n",
    "\n",
    "#tokenized_ques2[0:2]\n",
    "\n",
    "length_ques1 = len(tokenized_ques1)\n",
    "\n",
    "for i in range(0,length_ques1):\n",
    "    #Some part taken from https://stackoverflow.com/questions/53503049/measure-similarity-between-two-documents-using-doc2vec\n",
    "    vec1 = model.infer_vector(tokenized_ques1[i])\n",
    "    vec2 = model.infer_vector(tokenized_ques2[i])\n",
    "    cos_distance = spatial.distance.cosine(vec1, vec2)\n",
    "    cos_sim = 1-cos_distance\n",
    "    sim_scores.append(cos_sim)"
   ]
  },
  {
   "cell_type": "code",
   "execution_count": 26,
   "id": "2650dea5",
   "metadata": {},
   "outputs": [
    {
     "data": {
      "text/plain": [
       "[4.4195228815078735,\n",
       " 4.11289244890213,\n",
       " 2.8517255187034607,\n",
       " 3.625454008579254,\n",
       " 1.3545145094394684,\n",
       " 2.1957167983055115,\n",
       " 4.891596734523773,\n",
       " 4.336508214473724,\n",
       " 3.289390504360199,\n",
       " 4.609622359275818,\n",
       " 3.7830546498298645,\n",
       " 4.756889045238495,\n",
       " 2.4993523955345154,\n",
       " 4.135308265686035,\n",
       " 3.7410685420036316,\n",
       " -0.9799274802207947,\n",
       " 2.2923652827739716,\n",
       " 4.882136583328247,\n",
       " 4.242141842842102,\n",
       " 4.288155734539032,\n",
       " 4.645232856273651,\n",
       " 4.960460066795349,\n",
       " 4.79410320520401,\n",
       " 4.938544034957886,\n",
       " 3.3315542340278625,\n",
       " 4.332265555858612,\n",
       " 4.144156575202942,\n",
       " 4.855320155620575,\n",
       " 2.3628291487693787,\n",
       " 3.1481218338012695,\n",
       " 4.924359619617462,\n",
       " 4.190070629119873,\n",
       " 3.966730833053589,\n",
       " 3.5004907846450806,\n",
       " 2.870563268661499,\n",
       " 4.10126805305481,\n",
       " 2.329670935869217,\n",
       " 4.760605692863464,\n",
       " 2.9147791862487793,\n",
       " 3.7884649634361267,\n",
       " 2.212234139442444,\n",
       " 4.038016200065613,\n",
       " 4.742093980312347,\n",
       " 2.9938197135925293,\n",
       " 3.662436306476593,\n",
       " 1.0018041729927063,\n",
       " 4.240373969078064,\n",
       " 4.488396048545837,\n",
       " 3.979889750480652,\n",
       " 4.5871129631996155]"
      ]
     },
     "execution_count": 26,
     "metadata": {},
     "output_type": "execute_result"
    }
   ],
   "source": [
    "sim_scores = [(score*5) for score in sim_scores]\n",
    "sim_scores[0:50]"
   ]
  },
  {
   "cell_type": "code",
   "execution_count": 27,
   "id": "dd3c8dba",
   "metadata": {},
   "outputs": [],
   "source": [
    "with open('C:/Users/daksh/OneDrive/Desktop/sts2016-english-with-gs-v1.0/sts2016-english-with-gs-v1.0/STS2016.input.question-question.cosine.txt', 'w') as file:\n",
    "    for score in sim_scores:\n",
    "        file.write('%s\\n' %score)"
   ]
  }
 ],
 "metadata": {
  "kernelspec": {
   "display_name": "Python 3 (ipykernel)",
   "language": "python",
   "name": "python3"
  },
  "language_info": {
   "codemirror_mode": {
    "name": "ipython",
    "version": 3
   },
   "file_extension": ".py",
   "mimetype": "text/x-python",
   "name": "python",
   "nbconvert_exporter": "python",
   "pygments_lexer": "ipython3",
   "version": "3.8.3"
  }
 },
 "nbformat": 4,
 "nbformat_minor": 5
}
