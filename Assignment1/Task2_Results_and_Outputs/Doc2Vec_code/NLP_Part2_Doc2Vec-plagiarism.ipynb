{
 "cells": [
  {
   "cell_type": "code",
   "execution_count": 1,
   "id": "c0496979",
   "metadata": {},
   "outputs": [],
   "source": [
    "#Code reference: https://radimrehurek.com/gensim/auto_examples/tutorials/run_doc2vec_lee.html#sphx-glr-auto-examples-tutorials-run-doc2vec-lee-py\n",
    "#Code reference: https://www.tutorialspoint.com/gensim/gensim_doc2vec_model.htm"
   ]
  },
  {
   "cell_type": "markdown",
   "id": "a1c62eb7",
   "metadata": {},
   "source": [
    "### Importing Libraries"
   ]
  },
  {
   "cell_type": "code",
   "execution_count": 2,
   "id": "ac975141",
   "metadata": {},
   "outputs": [],
   "source": [
    "import pandas as pd\n",
    "import numpy as np\n",
    "from nltk.tokenize import word_tokenize\n",
    "from nltk.corpus import stopwords\n",
    "import nltk\n",
    "from gensim.models.doc2vec import Doc2Vec, TaggedDocument\n",
    "import re\n",
    "import gensim"
   ]
  },
  {
   "cell_type": "markdown",
   "id": "d3454c69",
   "metadata": {},
   "source": [
    "### Reading File"
   ]
  },
  {
   "cell_type": "code",
   "execution_count": 3,
   "id": "6bddfa20",
   "metadata": {},
   "outputs": [],
   "source": [
    "with open('C:/Users/daksh/OneDrive/Desktop/sts2016-english-with-gs-v1.0/sts2016-english-with-gs-v1.0/STS2016.input.plagiarism.txt', 'r', encoding='utf-8') as file:\n",
    "    data = file.read()"
   ]
  },
  {
   "cell_type": "code",
   "execution_count": 4,
   "id": "f928298d",
   "metadata": {},
   "outputs": [
    {
     "data": {
      "text/plain": [
       "'The vector space model has some limitations: 1.\\tThe vector space model are the documents which are represented as “bags of words”.\\tA Corpus of Plagiarised Short Answers - http://ir.shef.ac.uk/cloughie/resources/plagiarism_corpus.html File: g2pA_taskc.txt\\tA Corpus of Plagiarised Short Answers - http://ir.shef.ac.uk/cloughie/resources/plagiarism_corpus.html File: g4pC_taskc.txt\\nSecondly to define the value of the optimal solution recursively.\\tDefine value of optimal solution recursively.\\tA Corpus of Plagiarised Short Answers - http://ir.shef.ac.uk/cloughie/resources/plagiarism_corpus.html File: g2pE_taske.txt\\tA Corpus of Plagiarised Short Answers - http://ir.shef.ac.uk/cloughie/resources/plagiarism_corpus.html File: g0pA_taske.txt\\nVector space representation results in the loss of the order which the terms are in the document.\\tIf a term occurs in the document, the value will be non-zero in the vector.\\tA Corpus of Plagiarised Short Answers - http://ir.shef.ac.uk/cloughie/resources/plagiar'"
      ]
     },
     "execution_count": 4,
     "metadata": {},
     "output_type": "execute_result"
    }
   ],
   "source": [
    "data[0:1000]"
   ]
  },
  {
   "cell_type": "code",
   "execution_count": 5,
   "id": "0e410ab1",
   "metadata": {},
   "outputs": [
    {
     "data": {
      "text/plain": [
       "516548"
      ]
     },
     "execution_count": 5,
     "metadata": {},
     "output_type": "execute_result"
    }
   ],
   "source": [
    "len(data)"
   ]
  },
  {
   "cell_type": "markdown",
   "id": "5944af1c",
   "metadata": {},
   "source": [
    "### Pre-process and Tag the data"
   ]
  },
  {
   "cell_type": "code",
   "execution_count": 6,
   "id": "4da31f7d",
   "metadata": {},
   "outputs": [],
   "source": [
    "tp1 = re.sub(r'\\w+:\\/{2}[\\d\\w-]+(\\.[\\d\\w-]+)*(?:(?:\\/[^\\s/]*))*', '', data)\n",
    "tp2 = re.sub(r'\\d+', '', tp1)\n",
    "clean= re.compile('<.*?>')\n",
    "tp4 = re.sub(clean, '', tp2)\n",
    "tp5 = tp4.lower()\n",
    "tp7 = re.sub(r'[^\\w\\s]', '',tp5)\n",
    "tp8 = re.sub(r'[^\\x00-\\x7f]',r'', tp7)\n",
    "tp9 = tp8.replace(\"_\",\"\")\n",
    "\n",
    "stop_words = set(stopwords.words('english'))"
   ]
  },
  {
   "cell_type": "code",
   "execution_count": 7,
   "id": "b0f2019e",
   "metadata": {},
   "outputs": [],
   "source": [
    "with open(\"doc2vectest.txt\", 'w') as file:\n",
    "    file.write(\"%s\\n\" % tp9)"
   ]
  },
  {
   "cell_type": "code",
   "execution_count": 8,
   "id": "312162a9",
   "metadata": {},
   "outputs": [
    {
     "data": {
      "text/html": [
       "<div>\n",
       "<style scoped>\n",
       "    .dataframe tbody tr th:only-of-type {\n",
       "        vertical-align: middle;\n",
       "    }\n",
       "\n",
       "    .dataframe tbody tr th {\n",
       "        vertical-align: top;\n",
       "    }\n",
       "\n",
       "    .dataframe thead th {\n",
       "        text-align: right;\n",
       "    }\n",
       "</style>\n",
       "<table border=\"1\" class=\"dataframe\">\n",
       "  <thead>\n",
       "    <tr style=\"text-align: right;\">\n",
       "      <th></th>\n",
       "      <th>First_Question</th>\n",
       "      <th>Second_Question</th>\n",
       "      <th>irr1</th>\n",
       "      <th>irr2</th>\n",
       "    </tr>\n",
       "  </thead>\n",
       "  <tbody>\n",
       "    <tr>\n",
       "      <th>0</th>\n",
       "      <td>secondly to define the value of the optimal so...</td>\n",
       "      <td>define value of optimal solution recursively</td>\n",
       "      <td>a corpus of plagiarised short answers   file g...</td>\n",
       "      <td>a corpus of plagiarised short answers   file g...</td>\n",
       "    </tr>\n",
       "    <tr>\n",
       "      <th>1</th>\n",
       "      <td>vector space representation results in the los...</td>\n",
       "      <td>if a term occurs in the document the value wil...</td>\n",
       "      <td>a corpus of plagiarised short answers   file g...</td>\n",
       "      <td>a corpus of plagiarised short answers   file g...</td>\n",
       "    </tr>\n",
       "    <tr>\n",
       "      <th>2</th>\n",
       "      <td>pb is the prior or marginal probability of b a...</td>\n",
       "      <td>pa or the probability that the student is a gi...</td>\n",
       "      <td>a corpus of plagiarised short answers   file g...</td>\n",
       "      <td>a corpus of plagiarised short answers   file g...</td>\n",
       "    </tr>\n",
       "    <tr>\n",
       "      <th>3</th>\n",
       "      <td>it is prior in the sense that it does not take...</td>\n",
       "      <td>it is previous in the sense that it does not t...</td>\n",
       "      <td>a corpus of plagiarised short answers   file g...</td>\n",
       "      <td>a corpus of plagiarised short answers   file g...</td>\n",
       "    </tr>\n",
       "    <tr>\n",
       "      <th>4</th>\n",
       "      <td>the vector space model has the following limit...</td>\n",
       "      <td>models based on and extending the vector space...</td>\n",
       "      <td>a corpus of plagiarised short answers   file o...</td>\n",
       "      <td>a corpus of plagiarised short answers   file g...</td>\n",
       "    </tr>\n",
       "  </tbody>\n",
       "</table>\n",
       "</div>"
      ],
      "text/plain": [
       "                                      First_Question  \\\n",
       "0  secondly to define the value of the optimal so...   \n",
       "1  vector space representation results in the los...   \n",
       "2  pb is the prior or marginal probability of b a...   \n",
       "3  it is prior in the sense that it does not take...   \n",
       "4  the vector space model has the following limit...   \n",
       "\n",
       "                                     Second_Question  \\\n",
       "0       define value of optimal solution recursively   \n",
       "1  if a term occurs in the document the value wil...   \n",
       "2  pa or the probability that the student is a gi...   \n",
       "3  it is previous in the sense that it does not t...   \n",
       "4  models based on and extending the vector space...   \n",
       "\n",
       "                                                irr1  \\\n",
       "0  a corpus of plagiarised short answers   file g...   \n",
       "1  a corpus of plagiarised short answers   file g...   \n",
       "2  a corpus of plagiarised short answers   file g...   \n",
       "3  a corpus of plagiarised short answers   file g...   \n",
       "4  a corpus of plagiarised short answers   file o...   \n",
       "\n",
       "                                                irr2  \n",
       "0  a corpus of plagiarised short answers   file g...  \n",
       "1  a corpus of plagiarised short answers   file g...  \n",
       "2  a corpus of plagiarised short answers   file g...  \n",
       "3  a corpus of plagiarised short answers   file g...  \n",
       "4  a corpus of plagiarised short answers   file g...  "
      ]
     },
     "execution_count": 8,
     "metadata": {},
     "output_type": "execute_result"
    }
   ],
   "source": [
    "df = pd.read_csv('doc2vectest.txt', sep='\\t')\n",
    "df.columns = ['First_Question','Second_Question','irr1','irr2']\n",
    "df.head()"
   ]
  },
  {
   "cell_type": "code",
   "execution_count": 9,
   "id": "d0f9a66b",
   "metadata": {},
   "outputs": [],
   "source": [
    "df['first_removedStop'] = df['First_Question'].apply(lambda x: ' '.join([word for word in x.split() if word not in stop_words]))\n",
    "df['second_removedStop'] = df['Second_Question'].apply(lambda x: ' '.join([word for word in x.split() if word not in stop_words]))"
   ]
  },
  {
   "cell_type": "code",
   "execution_count": 10,
   "id": "5d71b52b",
   "metadata": {},
   "outputs": [],
   "source": [
    "df.drop(columns = ['First_Question','Second_Question','irr1','irr2'], axis=1, inplace=True)"
   ]
  },
  {
   "cell_type": "code",
   "execution_count": 11,
   "id": "fe69252e",
   "metadata": {},
   "outputs": [
    {
     "data": {
      "text/plain": [
       "(1270, 2)"
      ]
     },
     "execution_count": 11,
     "metadata": {},
     "output_type": "execute_result"
    }
   ],
   "source": [
    "df.shape"
   ]
  },
  {
   "cell_type": "code",
   "execution_count": 12,
   "id": "8f91b087",
   "metadata": {},
   "outputs": [],
   "source": [
    "import string\n",
    "\n",
    "corpus = []\n",
    "\n",
    "for index, row in df.iterrows():\n",
    "    corpus.append(row['first_removedStop'])\n",
    "    corpus.append(row['second_removedStop'])"
   ]
  },
  {
   "cell_type": "code",
   "execution_count": 13,
   "id": "9b0aed23",
   "metadata": {},
   "outputs": [
    {
     "data": {
      "text/plain": [
       "['secondly define value optimal solution recursively',\n",
       " 'define value optimal solution recursively',\n",
       " 'vector space representation results loss order terms document',\n",
       " 'term occurs document value nonzero vector',\n",
       " 'pb prior marginal probability b acts normalizing constant']"
      ]
     },
     "execution_count": 13,
     "metadata": {},
     "output_type": "execute_result"
    }
   ],
   "source": [
    "corpus[0:5]"
   ]
  },
  {
   "cell_type": "code",
   "execution_count": 14,
   "id": "bd7377ba",
   "metadata": {},
   "outputs": [],
   "source": [
    "import string\n",
    "\n",
    "questions1 = df['first_removedStop'].to_list()\n",
    "questions2 = df['second_removedStop'].to_list()"
   ]
  },
  {
   "cell_type": "code",
   "execution_count": 15,
   "id": "b434a73e",
   "metadata": {},
   "outputs": [
    {
     "data": {
      "text/plain": [
       "list"
      ]
     },
     "execution_count": 15,
     "metadata": {},
     "output_type": "execute_result"
    }
   ],
   "source": [
    "type(questions1)"
   ]
  },
  {
   "cell_type": "code",
   "execution_count": 16,
   "id": "faf93508",
   "metadata": {},
   "outputs": [],
   "source": [
    "#ls = [\"This\",\"is\",\"list\",\"of\", \"words\"]\n",
    "\n",
    "def tagged_document(list_of_list_of_words):\n",
    "    for i, list_of_words in enumerate(list_of_list_of_words):\n",
    "        tokens = gensim.utils.simple_preprocess(list_of_words)\n",
    "        yield gensim.models.doc2vec.TaggedDocument(tokens, [i])\n",
    "\n",
    "data_for_training = list(tagged_document(corpus))"
   ]
  },
  {
   "cell_type": "code",
   "execution_count": 17,
   "id": "d1749471",
   "metadata": {},
   "outputs": [
    {
     "name": "stdout",
     "output_type": "stream",
     "text": [
      "[TaggedDocument(words=['secondly', 'define', 'value', 'optimal', 'solution', 'recursively'], tags=[0]), TaggedDocument(words=['define', 'value', 'optimal', 'solution', 'recursively'], tags=[1]), TaggedDocument(words=['vector', 'space', 'representation', 'results', 'loss', 'order', 'terms', 'document'], tags=[2])]\n"
     ]
    }
   ],
   "source": [
    "print(data_for_training[:3])"
   ]
  },
  {
   "cell_type": "code",
   "execution_count": 18,
   "id": "6a382f9f",
   "metadata": {},
   "outputs": [],
   "source": [
    "model = Doc2Vec(vector_size=50, min_count=2, epochs=40)\n",
    "model.build_vocab(data_for_training)\n",
    "\n",
    "model.train(data_for_training, total_examples=model.corpus_count, epochs=model.epochs)\n",
    "\n",
    "#embeddings2 = model.train(quest2, total_examples=model.corpus_count, epochs=model.epochs)"
   ]
  },
  {
   "cell_type": "code",
   "execution_count": 19,
   "id": "955db8a7",
   "metadata": {},
   "outputs": [
    {
     "data": {
      "text/plain": [
       "[(795, 0.9775969982147217),\n",
       " (556, 0.9672380089759827),\n",
       " (612, 0.9625769853591919),\n",
       " (82, 0.9597797989845276),\n",
       " (2325, 0.9578133225440979),\n",
       " (1000, 0.953061044216156),\n",
       " (2324, 0.9454733729362488),\n",
       " (2509, 0.9441366195678711),\n",
       " (2428, 0.9430422186851501),\n",
       " (433, 0.9423292279243469)]"
      ]
     },
     "execution_count": 19,
     "metadata": {},
     "output_type": "execute_result"
    }
   ],
   "source": [
    "model.dv.most_similar(0)"
   ]
  },
  {
   "cell_type": "code",
   "execution_count": 20,
   "id": "d0e5f72c",
   "metadata": {},
   "outputs": [
    {
     "data": {
      "text/plain": [
       "TaggedDocument(words=['secondly', 'define', 'value', 'optimal', 'solution', 'recursively'], tags=[0])"
      ]
     },
     "execution_count": 20,
     "metadata": {},
     "output_type": "execute_result"
    }
   ],
   "source": [
    "data_for_training[0]"
   ]
  },
  {
   "cell_type": "code",
   "execution_count": 21,
   "id": "23836e9d",
   "metadata": {},
   "outputs": [
    {
     "data": {
      "text/plain": [
       "TaggedDocument(words=['secondly', 'define', 'value', 'optimal', 'solution', 'recursively'], tags=[1000])"
      ]
     },
     "execution_count": 21,
     "metadata": {},
     "output_type": "execute_result"
    }
   ],
   "source": [
    "data_for_training[1000]"
   ]
  },
  {
   "cell_type": "code",
   "execution_count": 22,
   "id": "919e8880",
   "metadata": {},
   "outputs": [
    {
     "data": {
      "text/plain": [
       "2540"
      ]
     },
     "execution_count": 22,
     "metadata": {},
     "output_type": "execute_result"
    }
   ],
   "source": [
    "len(model.dv)"
   ]
  },
  {
   "cell_type": "markdown",
   "id": "702f335c",
   "metadata": {},
   "source": [
    "### Evaluation"
   ]
  },
  {
   "cell_type": "code",
   "execution_count": 23,
   "id": "615b6940",
   "metadata": {},
   "outputs": [
    {
     "data": {
      "text/plain": [
       "1270"
      ]
     },
     "execution_count": 23,
     "metadata": {},
     "output_type": "execute_result"
    }
   ],
   "source": [
    "tokenized_ques1 =[]\n",
    "for question in questions1:\n",
    "    tokenized_ques1.append(gensim.utils.simple_preprocess(question))\n",
    "len(tokenized_ques1)"
   ]
  },
  {
   "cell_type": "code",
   "execution_count": 24,
   "id": "8fa72137",
   "metadata": {},
   "outputs": [
    {
     "data": {
      "text/plain": [
       "1270"
      ]
     },
     "execution_count": 24,
     "metadata": {},
     "output_type": "execute_result"
    }
   ],
   "source": [
    "tokenized_ques2 =[]\n",
    "for question in questions2:\n",
    "    tokenized_ques2.append(gensim.utils.simple_preprocess(question))\n",
    "len(tokenized_ques2)"
   ]
  },
  {
   "cell_type": "code",
   "execution_count": 25,
   "id": "dde515ab",
   "metadata": {},
   "outputs": [],
   "source": [
    "from scipy import spatial\n",
    "\n",
    "sim_scores=[]\n",
    "\n",
    "#tokenized_ques2[0:2]\n",
    "\n",
    "length_ques1 = len(tokenized_ques1)\n",
    "\n",
    "for i in range(0,length_ques1):\n",
    "    #Some part taken from https://stackoverflow.com/questions/53503049/measure-similarity-between-two-documents-using-doc2vec\n",
    "    vec1 = model.infer_vector(tokenized_ques1[i])\n",
    "    vec2 = model.infer_vector(tokenized_ques2[i])\n",
    "    cos_distance = spatial.distance.cosine(vec1, vec2)\n",
    "    cos_sim = 1-cos_distance\n",
    "    sim_scores.append(cos_sim)"
   ]
  },
  {
   "cell_type": "code",
   "execution_count": 26,
   "id": "2650dea5",
   "metadata": {
    "scrolled": true
   },
   "outputs": [
    {
     "data": {
      "text/plain": [
       "[0.9445233345031738,\n",
       " 0.5178488492965698,\n",
       " 0.4234110414981842,\n",
       " 0.5243306159973145,\n",
       " 0.697325587272644,\n",
       " 0.7672815322875977,\n",
       " 0.5562579035758972,\n",
       " 0.8633687496185303,\n",
       " 0.716844916343689,\n",
       " 0.570695161819458,\n",
       " 0.3774237632751465,\n",
       " 0.7933225035667419,\n",
       " 0.6086273789405823,\n",
       " 0.6387276649475098,\n",
       " 0.4082610309123993,\n",
       " 0.6012640595436096,\n",
       " 0.5029648542404175,\n",
       " 0.21896317601203918,\n",
       " 0.9251386523246765,\n",
       " 0.8687998652458191,\n",
       " 0.5568045973777771,\n",
       " -0.049515075981616974,\n",
       " 0.9654817581176758,\n",
       " 0.28646668791770935,\n",
       " -0.4853874444961548,\n",
       " 0.1928643137216568,\n",
       " -0.05793950706720352,\n",
       " 0.8111659288406372,\n",
       " 0.13997626304626465,\n",
       " 0.5826117992401123,\n",
       " 0.43559393286705017,\n",
       " 0.1930321902036667,\n",
       " 0.2622233033180237,\n",
       " 0.761972188949585,\n",
       " 0.4414689242839813,\n",
       " 0.4945022463798523,\n",
       " 0.11140581965446472,\n",
       " 0.5103105306625366,\n",
       " 0.5341476798057556,\n",
       " 0.7603869438171387,\n",
       " 0.2615688443183899,\n",
       " 0.6323397159576416,\n",
       " 0.7671968936920166,\n",
       " 0.8962646722793579,\n",
       " 0.6947436928749084,\n",
       " 0.23770368099212646,\n",
       " 0.39364752173423767,\n",
       " 0.01219948474317789,\n",
       " 0.776880145072937,\n",
       " 0.1282747983932495]"
      ]
     },
     "execution_count": 26,
     "metadata": {},
     "output_type": "execute_result"
    }
   ],
   "source": [
    "#sim_scores = [(score*5) for score in sim_scores]\n",
    "sim_scores[0:50]"
   ]
  },
  {
   "cell_type": "code",
   "execution_count": 27,
   "id": "dd3c8dba",
   "metadata": {},
   "outputs": [],
   "source": [
    "with open('C:/Users/daksh/OneDrive/Desktop/sts2016-english-with-gs-v1.0/sts2016-english-with-gs-v1.0/STS2016.input.plagiarism.cosine.txt', 'w') as file:\n",
    "    for score in sim_scores:\n",
    "        file.write('%s\\n' %score)"
   ]
  }
 ],
 "metadata": {
  "kernelspec": {
   "display_name": "Python 3 (ipykernel)",
   "language": "python",
   "name": "python3"
  },
  "language_info": {
   "codemirror_mode": {
    "name": "ipython",
    "version": 3
   },
   "file_extension": ".py",
   "mimetype": "text/x-python",
   "name": "python",
   "nbconvert_exporter": "python",
   "pygments_lexer": "ipython3",
   "version": "3.8.3"
  }
 },
 "nbformat": 4,
 "nbformat_minor": 5
}
